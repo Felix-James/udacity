{
 "cells": [
  {
   "cell_type": "markdown",
   "metadata": {},
   "source": [
    "# Numpy \n",
    "Numpy is really similar to matlab so haven't listed many examples\n"
   ]
  },
  {
   "cell_type": "markdown",
   "metadata": {},
   "source": [
    "# Pandas\n"
   ]
  },
  {
   "cell_type": "code",
   "execution_count": 2,
   "metadata": {
    "collapsed": false
   },
   "outputs": [
    {
     "name": "stdout",
     "output_type": "stream",
     "text": [
      "(5999, 10)\n",
      "Index([u'4.40', u'136455', u'0439023483', u'good_reads:book',\n",
      "       u'https://www.goodreads.com/author/show/153394.Suzanne_Collins',\n",
      "       u'2008',\n",
      "       u'/genres/young-adult|/genres/science-fiction|/genres/dystopia|/genres/fantasy|/genres/science-fiction|/genres/romance|/genres/adventure|/genres/book-club|/genres/young-adult|/genres/teen|/genres/apocalyptic|/genres/post-apocalyptic|/genres/action',\n",
      "       u'dir01/2767052-the-hunger-games.html', u'2958974',\n",
      "       u'The Hunger Games (The Hunger Games, #1)'],\n",
      "      dtype='object')\n",
      "['4.40', '136455', '0439023483', 'good_reads:book', 'https://www.goodreads.com/author/show/153394.Suzanne_Collins', '2008', '/genres/young-adult|/genres/science-fiction|/genres/dystopia|/genres/fantasy|/genres/science-fiction|/genres/romance|/genres/adventure|/genres/book-club|/genres/young-adult|/genres/teen|/genres/apocalyptic|/genres/post-apocalyptic|/genres/action', 'dir01/2767052-the-hunger-games.html', '2958974', 'The Hunger Games (The Hunger Games, #1)']\n"
     ]
    }
   ],
   "source": [
    "import pandas as pd\n",
    "\n",
    "# read csv in to a data frame \n",
    "# csv is a web pull from goodreads\n",
    "gr = pd.read_csv('all.csv')\n",
    "\n",
    "# inspect pandas object\n",
    "first_rows = gr.head()\n",
    "first_three_rows = gr.head(3)\n",
    "\n",
    "dimensions = gr.shape\n",
    "column_names = gr.columns\n",
    "column_names_list = column_names.tolist() # Convert to list\n",
    "# print(first_rows) \n",
    "print (dimensions)\n",
    "print(column_names)\n",
    "print(column_names_list)"
   ]
  },
  {
   "cell_type": "code",
   "execution_count": 3,
   "metadata": {
    "collapsed": false
   },
   "outputs": [
    {
     "data": {
      "text/html": [
       "<div>\n",
       "<table border=\"1\" class=\"dataframe\">\n",
       "  <thead>\n",
       "    <tr style=\"text-align: right;\">\n",
       "      <th></th>\n",
       "      <th>4.40</th>\n",
       "      <th>136455</th>\n",
       "      <th>0439023483</th>\n",
       "      <th>good_reads:book</th>\n",
       "      <th>https://www.goodreads.com/author/show/153394.Suzanne_Collins</th>\n",
       "      <th>2008</th>\n",
       "      <th>/genres/young-adult|/genres/science-fiction|/genres/dystopia|/genres/fantasy|/genres/science-fiction|/genres/romance|/genres/adventure|/genres/book-club|/genres/young-adult|/genres/teen|/genres/apocalyptic|/genres/post-apocalyptic|/genres/action</th>\n",
       "      <th>dir01/2767052-the-hunger-games.html</th>\n",
       "      <th>2958974</th>\n",
       "      <th>The Hunger Games (The Hunger Games, #1)</th>\n",
       "    </tr>\n",
       "  </thead>\n",
       "  <tbody>\n",
       "    <tr>\n",
       "      <th>0</th>\n",
       "      <td>4.41</td>\n",
       "      <td>16648</td>\n",
       "      <td>0439358078</td>\n",
       "      <td>good_reads:book</td>\n",
       "      <td>https://www.goodreads.com/author/show/1077326....</td>\n",
       "      <td>2003.0</td>\n",
       "      <td>/genres/fantasy|/genres/young-adult|/genres/fi...</td>\n",
       "      <td>dir01/2.Harry_Potter_and_the_Order_of_the_Phoe...</td>\n",
       "      <td>1284478</td>\n",
       "      <td>Harry Potter and the Order of the Phoenix (Har...</td>\n",
       "    </tr>\n",
       "    <tr>\n",
       "      <th>1</th>\n",
       "      <td>3.56</td>\n",
       "      <td>85746</td>\n",
       "      <td>0316015849</td>\n",
       "      <td>good_reads:book</td>\n",
       "      <td>https://www.goodreads.com/author/show/941441.S...</td>\n",
       "      <td>2005.0</td>\n",
       "      <td>/genres/young-adult|/genres/fantasy|/genres/ro...</td>\n",
       "      <td>dir01/41865.Twilight.html</td>\n",
       "      <td>2579564</td>\n",
       "      <td>Twilight (Twilight, #1)</td>\n",
       "    </tr>\n",
       "    <tr>\n",
       "      <th>2</th>\n",
       "      <td>4.23</td>\n",
       "      <td>47906</td>\n",
       "      <td>0061120081</td>\n",
       "      <td>good_reads:book</td>\n",
       "      <td>https://www.goodreads.com/author/show/1825.Har...</td>\n",
       "      <td>1960.0</td>\n",
       "      <td>/genres/classics|/genres/fiction|/genres/histo...</td>\n",
       "      <td>dir01/2657.To_Kill_a_Mockingbird.html</td>\n",
       "      <td>2078123</td>\n",
       "      <td>To Kill a Mockingbird</td>\n",
       "    </tr>\n",
       "    <tr>\n",
       "      <th>3</th>\n",
       "      <td>4.23</td>\n",
       "      <td>34772</td>\n",
       "      <td>0679783261</td>\n",
       "      <td>good_reads:book</td>\n",
       "      <td>https://www.goodreads.com/author/show/1265.Jan...</td>\n",
       "      <td>1813.0</td>\n",
       "      <td>/genres/classics|/genres/fiction|/genres/roman...</td>\n",
       "      <td>dir01/1885.Pride_and_Prejudice.html</td>\n",
       "      <td>1388992</td>\n",
       "      <td>Pride and Prejudice</td>\n",
       "    </tr>\n",
       "    <tr>\n",
       "      <th>4</th>\n",
       "      <td>4.25</td>\n",
       "      <td>12363</td>\n",
       "      <td>0446675539</td>\n",
       "      <td>good_reads:book</td>\n",
       "      <td>https://www.goodreads.com/author/show/11081.Ma...</td>\n",
       "      <td>1936.0</td>\n",
       "      <td>/genres/classics|/genres/historical-fiction|/g...</td>\n",
       "      <td>dir01/18405.Gone_with_the_Wind.html</td>\n",
       "      <td>645470</td>\n",
       "      <td>Gone with the Wind</td>\n",
       "    </tr>\n",
       "  </tbody>\n",
       "</table>\n",
       "</div>"
      ],
      "text/plain": [
       "   4.40 136455  0439023483  good_reads:book  \\\n",
       "0  4.41  16648  0439358078  good_reads:book   \n",
       "1  3.56  85746  0316015849  good_reads:book   \n",
       "2  4.23  47906  0061120081  good_reads:book   \n",
       "3  4.23  34772  0679783261  good_reads:book   \n",
       "4  4.25  12363  0446675539  good_reads:book   \n",
       "\n",
       "  https://www.goodreads.com/author/show/153394.Suzanne_Collins    2008  \\\n",
       "0  https://www.goodreads.com/author/show/1077326....            2003.0   \n",
       "1  https://www.goodreads.com/author/show/941441.S...            2005.0   \n",
       "2  https://www.goodreads.com/author/show/1825.Har...            1960.0   \n",
       "3  https://www.goodreads.com/author/show/1265.Jan...            1813.0   \n",
       "4  https://www.goodreads.com/author/show/11081.Ma...            1936.0   \n",
       "\n",
       "  /genres/young-adult|/genres/science-fiction|/genres/dystopia|/genres/fantasy|/genres/science-fiction|/genres/romance|/genres/adventure|/genres/book-club|/genres/young-adult|/genres/teen|/genres/apocalyptic|/genres/post-apocalyptic|/genres/action  \\\n",
       "0  /genres/fantasy|/genres/young-adult|/genres/fi...                                                                                                                                                                                                      \n",
       "1  /genres/young-adult|/genres/fantasy|/genres/ro...                                                                                                                                                                                                      \n",
       "2  /genres/classics|/genres/fiction|/genres/histo...                                                                                                                                                                                                      \n",
       "3  /genres/classics|/genres/fiction|/genres/roman...                                                                                                                                                                                                      \n",
       "4  /genres/classics|/genres/historical-fiction|/g...                                                                                                                                                                                                      \n",
       "\n",
       "                 dir01/2767052-the-hunger-games.html  2958974  \\\n",
       "0  dir01/2.Harry_Potter_and_the_Order_of_the_Phoe...  1284478   \n",
       "1                          dir01/41865.Twilight.html  2579564   \n",
       "2              dir01/2657.To_Kill_a_Mockingbird.html  2078123   \n",
       "3                dir01/1885.Pride_and_Prejudice.html  1388992   \n",
       "4                dir01/18405.Gone_with_the_Wind.html   645470   \n",
       "\n",
       "             The Hunger Games (The Hunger Games, #1)  \n",
       "0  Harry Potter and the Order of the Phoenix (Har...  \n",
       "1                            Twilight (Twilight, #1)  \n",
       "2                              To Kill a Mockingbird  \n",
       "3                                Pride and Prejudice  \n",
       "4                                 Gone with the Wind  "
      ]
     },
     "execution_count": 3,
     "metadata": {},
     "output_type": "execute_result"
    }
   ],
   "source": [
    "gr.head()"
   ]
  },
  {
   "cell_type": "markdown",
   "metadata": {},
   "source": [
    "## Pandas series\n",
    "Represent rows and columns, similar to Numpy vector"
   ]
  },
  {
   "cell_type": "code",
   "execution_count": 4,
   "metadata": {
    "collapsed": false
   },
   "outputs": [
    {
     "name": "stdout",
     "output_type": "stream",
     "text": [
      "   4.40 136455  0439023483  good_reads:book  \\\n",
      "0  4.41  16648  0439358078  good_reads:book   \n",
      "1  3.56  85746  0316015849  good_reads:book   \n",
      "2  4.23  47906  0061120081  good_reads:book   \n",
      "\n",
      "  https://www.goodreads.com/author/show/153394.Suzanne_Collins    2008  \\\n",
      "0  https://www.goodreads.com/author/show/1077326....            2003.0   \n",
      "1  https://www.goodreads.com/author/show/941441.S...            2005.0   \n",
      "2  https://www.goodreads.com/author/show/1825.Har...            1960.0   \n",
      "\n",
      "  /genres/young-adult|/genres/science-fiction|/genres/dystopia|/genres/fantasy|/genres/science-fiction|/genres/romance|/genres/adventure|/genres/book-club|/genres/young-adult|/genres/teen|/genres/apocalyptic|/genres/post-apocalyptic|/genres/action  \\\n",
      "0  /genres/fantasy|/genres/young-adult|/genres/fi...                                                                                                                                                                                                      \n",
      "1  /genres/young-adult|/genres/fantasy|/genres/ro...                                                                                                                                                                                                      \n",
      "2  /genres/classics|/genres/fiction|/genres/histo...                                                                                                                                                                                                      \n",
      "\n",
      "                 dir01/2767052-the-hunger-games.html  2958974  \\\n",
      "0  dir01/2.Harry_Potter_and_the_Order_of_the_Phoe...  1284478   \n",
      "1                          dir01/41865.Twilight.html  2579564   \n",
      "2              dir01/2657.To_Kill_a_Mockingbird.html  2078123   \n",
      "\n",
      "             The Hunger Games (The Hunger Games, #1)  \n",
      "0  Harry Potter and the Order of the Phoenix (Har...  \n",
      "1                            Twilight (Twilight, #1)  \n",
      "2                              To Kill a Mockingbird  \n"
     ]
    }
   ],
   "source": [
    "# Select a column by name\n",
    "book = gr['good_reads:book']\n",
    "print(first_three_rows)\n",
    "\n",
    "# Add a column\n",
    "gr[\"dummy_column\"] = book"
   ]
  },
  {
   "cell_type": "code",
   "execution_count": 5,
   "metadata": {
    "collapsed": false
   },
   "outputs": [
    {
     "ename": "NameError",
     "evalue": "name 'food_info' is not defined",
     "output_type": "error",
     "traceback": [
      "\u001b[0;31m---------------------------------------------------------------------------\u001b[0m",
      "\u001b[0;31mNameError\u001b[0m                                 Traceback (most recent call last)",
      "\u001b[0;32m<ipython-input-5-764f6a0f8f77>\u001b[0m in \u001b[0;36m<module>\u001b[0;34m()\u001b[0m\n\u001b[1;32m      3\u001b[0m \u001b[0;31m# Like matlab\u001b[0m\u001b[0;34m\u001b[0m\u001b[0;34m\u001b[0m\u001b[0m\n\u001b[1;32m      4\u001b[0m \u001b[0;34m\u001b[0m\u001b[0m\n\u001b[0;32m----> 5\u001b[0;31m \u001b[0mwater_energy\u001b[0m \u001b[0;34m=\u001b[0m \u001b[0mfood_info\u001b[0m\u001b[0;34m[\u001b[0m\u001b[0;34m\"Water_(g)\"\u001b[0m\u001b[0;34m]\u001b[0m \u001b[0;34m*\u001b[0m \u001b[0mfood_info\u001b[0m\u001b[0;34m[\u001b[0m\u001b[0;34m\"Energy_Kcal\"\u001b[0m\u001b[0;34m]\u001b[0m\u001b[0;34m\u001b[0m\u001b[0m\n\u001b[0m\u001b[1;32m      6\u001b[0m \u001b[0;34m\u001b[0m\u001b[0m\n\u001b[1;32m      7\u001b[0m \u001b[0;31m# max in column\u001b[0m\u001b[0;34m\u001b[0m\u001b[0;34m\u001b[0m\u001b[0m\n",
      "\u001b[0;31mNameError\u001b[0m: name 'food_info' is not defined"
     ]
    }
   ],
   "source": [
    "## COLUMN MATH ## \n",
    "# Say we have two numerical columns, can do column by column operations\n",
    "# Like matlab\n",
    "\n",
    "water_energy = food_info[\"Water_(g)\"] * food_info[\"Energy_Kcal\"]\n",
    "\n",
    "# max in column \n",
    "max_calories = food_info[\"Energy_Kcal\"].max()\n",
    "\n"
   ]
  },
  {
   "cell_type": "markdown",
   "metadata": {},
   "source": [
    "# Sorting a dataframe by column\n",
    "Use method sort_values(), passing the column name. By default Pandas will sort by the column specified in ascending order and will return a new dataframe instead of modifying itself.\n",
    "\n",
    "Use parameters listed in the document to change the behaviour\n",
    "\n",
    "This sorts the entire dataframe by that column - which is very useful"
   ]
  },
  {
   "cell_type": "code",
   "execution_count": 6,
   "metadata": {
    "collapsed": false
   },
   "outputs": [
    {
     "name": "stdout",
     "output_type": "stream",
     "text": [
      "      4.40 136455  0439023483  good_reads:book  \\\n",
      "5563   5.0      9         NaN  good_reads:book   \n",
      "2908   5.0      0  0983002215  good_reads:book   \n",
      "1717   5.0     28         NaN  good_reads:book   \n",
      "\n",
      "     https://www.goodreads.com/author/show/153394.Suzanne_Collins    2008  \\\n",
      "5563  https://www.goodreads.com/author/show/7738947....            2014.0   \n",
      "2908  https://www.goodreads.com/author/show/6589034....            2011.0   \n",
      "1717  https://www.goodreads.com/author/show/6467808....            2014.0   \n",
      "\n",
      "     /genres/young-adult|/genres/science-fiction|/genres/dystopia|/genres/fantasy|/genres/science-fiction|/genres/romance|/genres/adventure|/genres/book-club|/genres/young-adult|/genres/teen|/genres/apocalyptic|/genres/post-apocalyptic|/genres/action  \\\n",
      "5563                  /genres/romance|/genres/new-adult                                                                                                                                                                                                      \n",
      "2908                                                NaN                                                                                                                                                                                                      \n",
      "1717                   /genres/poetry|/genres/childrens                                                                                                                                                                                                      \n",
      "\n",
      "                 dir01/2767052-the-hunger-games.html 2958974  \\\n",
      "5563                   dir56/21902777-untainted.html      14   \n",
      "2908              dir30/16200303-family-secrets.html       9   \n",
      "1717  dir18/22204746-an-elephant-is-on-my-house.html      64   \n",
      "\n",
      "     The Hunger Games (The Hunger Games, #1)     dummy_column  \n",
      "5563    Untainted (Photographer Trilogy, #3)  good_reads:book  \n",
      "2908                          Family Secrets  good_reads:book  \n",
      "1717              An Elephant Is On My House  good_reads:book  \n"
     ]
    }
   ],
   "source": [
    "rating_sorted = gr.sort_values(\"4.40\", ascending=False)\n",
    "print(rating_sorted.head(3))"
   ]
  },
  {
   "cell_type": "markdown",
   "metadata": {
    "collapsed": true
   },
   "source": [
    "## Missing Data\n",
    "\n",
    "Note: using .mean() will automatically filter missing values in pandas"
   ]
  },
  {
   "cell_type": "code",
   "execution_count": 7,
   "metadata": {
    "collapsed": false
   },
   "outputs": [
    {
     "name": "stdout",
     "output_type": "stream",
     "text": [
      "5999\n",
      "The number of NaN values is: 475\n",
      "48     True\n",
      "84     True\n",
      "115    True\n",
      "155    True\n",
      "Name: 0439023483, dtype: bool\n",
      "5524\n"
     ]
    }
   ],
   "source": [
    "column_null = pd.isnull(gr['0439023483'])\n",
    "# print column_null[0:20] # Returns a boolean for if value is NaN\n",
    "print len(column_null)\n",
    "column_null_true = column_null[column_null == True]\n",
    "print ('The number of NaN values is: %d' % len(column_null_true))\n",
    "print column_null_true[1:5]\n",
    "\n",
    "# Grab non-NaN values\n",
    "column_non_null = gr[\"0439023483\"][column_null == False]\n",
    "print len(column_non_null)"
   ]
  },
  {
   "cell_type": "markdown",
   "metadata": {},
   "source": [
    "# Summary Statistics\n",
    "\n",
    "From dataquest 12.5:\n",
    "- Select just the rows in titanic_survival where the pclass value is equivalent to the current iterator value (class),\n",
    "- Select just the fare column for the current subset of rows,\n",
    "- Calculate mean value of this column using the Series method mean,\n",
    "- In the fares_by_class dictionary, assign the calculated mean as the value and the class as the key."
   ]
  },
  {
   "cell_type": "code",
   "execution_count": 8,
   "metadata": {
    "collapsed": false
   },
   "outputs": [
    {
     "data": {
      "text/html": [
       "<div>\n",
       "<table border=\"1\" class=\"dataframe\">\n",
       "  <thead>\n",
       "    <tr style=\"text-align: right;\">\n",
       "      <th></th>\n",
       "      <th>PassengerId</th>\n",
       "      <th>Survived</th>\n",
       "      <th>Pclass</th>\n",
       "      <th>Name</th>\n",
       "      <th>Sex</th>\n",
       "      <th>Age</th>\n",
       "      <th>SibSp</th>\n",
       "      <th>Parch</th>\n",
       "      <th>Ticket</th>\n",
       "      <th>Fare</th>\n",
       "      <th>Cabin</th>\n",
       "      <th>Embarked</th>\n",
       "    </tr>\n",
       "  </thead>\n",
       "  <tbody>\n",
       "    <tr>\n",
       "      <th>0</th>\n",
       "      <td>1</td>\n",
       "      <td>0</td>\n",
       "      <td>3</td>\n",
       "      <td>Braund, Mr. Owen Harris</td>\n",
       "      <td>male</td>\n",
       "      <td>22.0</td>\n",
       "      <td>1</td>\n",
       "      <td>0</td>\n",
       "      <td>A/5 21171</td>\n",
       "      <td>7.2500</td>\n",
       "      <td>NaN</td>\n",
       "      <td>S</td>\n",
       "    </tr>\n",
       "    <tr>\n",
       "      <th>1</th>\n",
       "      <td>2</td>\n",
       "      <td>1</td>\n",
       "      <td>1</td>\n",
       "      <td>Cumings, Mrs. John Bradley (Florence Briggs Th...</td>\n",
       "      <td>female</td>\n",
       "      <td>38.0</td>\n",
       "      <td>1</td>\n",
       "      <td>0</td>\n",
       "      <td>PC 17599</td>\n",
       "      <td>71.2833</td>\n",
       "      <td>C85</td>\n",
       "      <td>C</td>\n",
       "    </tr>\n",
       "    <tr>\n",
       "      <th>2</th>\n",
       "      <td>3</td>\n",
       "      <td>1</td>\n",
       "      <td>3</td>\n",
       "      <td>Heikkinen, Miss. Laina</td>\n",
       "      <td>female</td>\n",
       "      <td>26.0</td>\n",
       "      <td>0</td>\n",
       "      <td>0</td>\n",
       "      <td>STON/O2. 3101282</td>\n",
       "      <td>7.9250</td>\n",
       "      <td>NaN</td>\n",
       "      <td>S</td>\n",
       "    </tr>\n",
       "    <tr>\n",
       "      <th>3</th>\n",
       "      <td>4</td>\n",
       "      <td>1</td>\n",
       "      <td>1</td>\n",
       "      <td>Futrelle, Mrs. Jacques Heath (Lily May Peel)</td>\n",
       "      <td>female</td>\n",
       "      <td>35.0</td>\n",
       "      <td>1</td>\n",
       "      <td>0</td>\n",
       "      <td>113803</td>\n",
       "      <td>53.1000</td>\n",
       "      <td>C123</td>\n",
       "      <td>S</td>\n",
       "    </tr>\n",
       "    <tr>\n",
       "      <th>4</th>\n",
       "      <td>5</td>\n",
       "      <td>0</td>\n",
       "      <td>3</td>\n",
       "      <td>Allen, Mr. William Henry</td>\n",
       "      <td>male</td>\n",
       "      <td>35.0</td>\n",
       "      <td>0</td>\n",
       "      <td>0</td>\n",
       "      <td>373450</td>\n",
       "      <td>8.0500</td>\n",
       "      <td>NaN</td>\n",
       "      <td>S</td>\n",
       "    </tr>\n",
       "  </tbody>\n",
       "</table>\n",
       "</div>"
      ],
      "text/plain": [
       "   PassengerId  Survived  Pclass  \\\n",
       "0            1         0       3   \n",
       "1            2         1       1   \n",
       "2            3         1       3   \n",
       "3            4         1       1   \n",
       "4            5         0       3   \n",
       "\n",
       "                                                Name     Sex   Age  SibSp  \\\n",
       "0                            Braund, Mr. Owen Harris    male  22.0      1   \n",
       "1  Cumings, Mrs. John Bradley (Florence Briggs Th...  female  38.0      1   \n",
       "2                             Heikkinen, Miss. Laina  female  26.0      0   \n",
       "3       Futrelle, Mrs. Jacques Heath (Lily May Peel)  female  35.0      1   \n",
       "4                           Allen, Mr. William Henry    male  35.0      0   \n",
       "\n",
       "   Parch            Ticket     Fare Cabin Embarked  \n",
       "0      0         A/5 21171   7.2500   NaN        S  \n",
       "1      0          PC 17599  71.2833   C85        C  \n",
       "2      0  STON/O2. 3101282   7.9250   NaN        S  \n",
       "3      0            113803  53.1000  C123        S  \n",
       "4      0            373450   8.0500   NaN        S  "
      ]
     },
     "execution_count": 8,
     "metadata": {},
     "output_type": "execute_result"
    }
   ],
   "source": [
    "# Sorts fare column by respect passenger class\n",
    "# Calculates mean and assigns to dictionary \n",
    "\n",
    "f = \"titanic_data_kaggle/train.csv\"\n",
    "titanic_survival = pd.read_csv(f)\n",
    "titanic_survival.head()\n",
    "\n"
   ]
  },
  {
   "cell_type": "code",
   "execution_count": 9,
   "metadata": {
    "collapsed": false
   },
   "outputs": [
    {
     "name": "stdout",
     "output_type": "stream",
     "text": [
      "{1: 84.15468749999992, 2: 20.66218315217391, 3: 13.675550101832997}\n"
     ]
    }
   ],
   "source": [
    "passenger_classes = [1, 2, 3]\n",
    "fares_by_class = {}\n",
    "for pc in passenger_classes:\n",
    "    interest_rows = titanic_survival[\"Fare\"][titanic_survival['Pclass'] == pc]\n",
    "    mean = interest_rows.mean()\n",
    "    fares_by_class[pc] = mean\n",
    "    \n",
    "print fares_by_class"
   ]
  },
  {
   "cell_type": "markdown",
   "metadata": {},
   "source": [
    "### Pivot Tables"
   ]
  },
  {
   "cell_type": "code",
   "execution_count": 10,
   "metadata": {
    "collapsed": false
   },
   "outputs": [
    {
     "name": "stdout",
     "output_type": "stream",
     "text": [
      "Pclass\n",
      "1    0.629630\n",
      "2    0.472826\n",
      "3    0.242363\n",
      "Name: Survived, dtype: float64\n",
      "Pclass\n",
      "1    38.233441\n",
      "2    29.877630\n",
      "3    25.140620\n",
      "Name: Age, dtype: float64\n",
      "                Age       Fare  Survived\n",
      "Embarked                                \n",
      "C         30.814769  59.954144  0.553571\n",
      "Q         28.089286  13.276030  0.389610\n",
      "S         29.445397  27.079812  0.336957\n"
     ]
    }
   ],
   "source": [
    "import numpy as np\n",
    "\n",
    "# Let's compute the survival change from 0-1 for people in each class\n",
    "# The closer to one, the higher the chance people in that passenger class survived\n",
    "# The \"survived\" column contains a 1 if the passenger survived, and a 0 if not\n",
    "# The pivot_table method on a pandas dataframe will let us do this\n",
    "# index specifies which column to subset data based on (in this case, we want to compute the survival percentage for each class)\n",
    "# values specifies which column to subset based on the index\n",
    "# The aggfunc specifies what to do with the subsets\n",
    "# In this case, we split survived into 3 vectors, one for each passenger class, and take the mean of each\n",
    "passenger_survival = titanic_survival.pivot_table(index=\"Pclass\", values=\"Survived\", aggfunc=np.mean)\n",
    "\n",
    "# First class passengers had a much higher survival chance\n",
    "print(passenger_survival)\n",
    "\n",
    "passenger_age = titanic_survival.pivot_table(index='Pclass', values='Age', aggfunc=np.mean)\n",
    "\n",
    "print(passenger_age)\n",
    "\n",
    "# Multiple values\n",
    "port_stats = titanic_survival.pivot_table(index='Embarked', values=['Age','Survived','Fare'],aggfunc=np.mean)\n",
    "print(port_stats)"
   ]
  },
  {
   "cell_type": "markdown",
   "metadata": {},
   "source": [
    "### Drop missing data\n",
    "\n",
    "Remove missing values in a matrix using dropna"
   ]
  },
  {
   "cell_type": "code",
   "execution_count": 11,
   "metadata": {
    "collapsed": false
   },
   "outputs": [],
   "source": [
    "# Drop all rows that have missing values\n",
    "new_titanic_survival = titanic_survival.dropna()\n",
    "\n",
    "# We can also use the axis argument to drop columns that have missing values\n",
    "new_titanic_survival = titanic_survival.dropna(axis=1)\n",
    "\n",
    "# We can use the subset argument to only drop rows if certain columns have missing values.\n",
    "# This drops all rows where \"age\" or \"sex\" is missing.\n",
    "new_titanic_survival = titanic_survival.dropna(subset=[\"Age\", \"Sex\"])"
   ]
  },
  {
   "cell_type": "markdown",
   "metadata": {},
   "source": [
    "### Row Indicies"
   ]
  },
  {
   "cell_type": "code",
   "execution_count": 12,
   "metadata": {
    "collapsed": false
   },
   "outputs": [
    {
     "name": "stdout",
     "output_type": "stream",
     "text": [
      "PassengerId                                               4\n",
      "Survived                                                  1\n",
      "Pclass                                                    1\n",
      "Name           Futrelle, Mrs. Jacques Heath (Lily May Peel)\n",
      "Sex                                                  female\n",
      "Age                                                      35\n",
      "SibSp                                                     1\n",
      "Parch                                                     0\n",
      "Ticket                                               113803\n",
      "Fare                                                   53.1\n",
      "Cabin                                                  C123\n",
      "Embarked                                                  S\n",
      "Name: 3, dtype: object\n",
      "PassengerId                                               4\n",
      "Survived                                                  1\n",
      "Pclass                                                    1\n",
      "Name           Futrelle, Mrs. Jacques Heath (Lily May Peel)\n",
      "Sex                                                  female\n",
      "Age                                                      35\n",
      "SibSp                                                     1\n",
      "Parch                                                     0\n",
      "Ticket                                               113803\n",
      "Fare                                                   53.1\n",
      "Cabin                                                  C123\n",
      "Embarked                                                  S\n",
      "Name: 3, dtype: object\n"
     ]
    }
   ],
   "source": [
    "# This code prints the fourth row in the data\n",
    "print(new_titanic_survival.iloc[3,:])\n",
    "\n",
    "# Using .loc instead addresses rows and columns by index, not position\n",
    "# This actually prints the first row, because it has index 3\n",
    "print(new_titanic_survival.loc[3,:])"
   ]
  },
  {
   "cell_type": "markdown",
   "metadata": {},
   "source": [
    "###  Column Indicies\n",
    "We can also index columns using the .loc[] method"
   ]
  },
  {
   "cell_type": "code",
   "execution_count": 13,
   "metadata": {
    "collapsed": false
   },
   "outputs": [
    {
     "ename": "KeyError",
     "evalue": "['body']",
     "output_type": "error",
     "traceback": [
      "\u001b[0;31m---------------------------------------------------------------------------\u001b[0m",
      "\u001b[0;31mKeyError\u001b[0m                                  Traceback (most recent call last)",
      "\u001b[0;32m<ipython-input-13-47e91f7244b8>\u001b[0m in \u001b[0;36m<module>\u001b[0;34m()\u001b[0m\n\u001b[0;32m----> 1\u001b[0;31m \u001b[0mnew_titanic_survival\u001b[0m \u001b[0;34m=\u001b[0m \u001b[0mtitanic_survival\u001b[0m\u001b[0;34m.\u001b[0m\u001b[0mdropna\u001b[0m\u001b[0;34m(\u001b[0m\u001b[0msubset\u001b[0m\u001b[0;34m=\u001b[0m\u001b[0;34m[\u001b[0m\u001b[0;34m\"body\"\u001b[0m\u001b[0;34m]\u001b[0m\u001b[0;34m)\u001b[0m\u001b[0;34m\u001b[0m\u001b[0m\n\u001b[0m\u001b[1;32m      2\u001b[0m \u001b[0;34m\u001b[0m\u001b[0m\n\u001b[1;32m      3\u001b[0m \u001b[0;31m# This prints the value in the first column of the first row\u001b[0m\u001b[0;34m\u001b[0m\u001b[0;34m\u001b[0m\u001b[0m\n\u001b[1;32m      4\u001b[0m \u001b[0;32mprint\u001b[0m\u001b[0;34m(\u001b[0m\u001b[0mnew_titanic_survival\u001b[0m\u001b[0;34m.\u001b[0m\u001b[0miloc\u001b[0m\u001b[0;34m[\u001b[0m\u001b[0;36m0\u001b[0m\u001b[0;34m,\u001b[0m\u001b[0;36m0\u001b[0m\u001b[0;34m]\u001b[0m\u001b[0;34m)\u001b[0m\u001b[0;34m\u001b[0m\u001b[0m\n\u001b[1;32m      5\u001b[0m \u001b[0;34m\u001b[0m\u001b[0m\n",
      "\u001b[0;32m/home/robwall/anaconda2/lib/python2.7/site-packages/pandas/core/frame.pyc\u001b[0m in \u001b[0;36mdropna\u001b[0;34m(self, axis, how, thresh, subset, inplace)\u001b[0m\n\u001b[1;32m   3008\u001b[0m                 \u001b[0mcheck\u001b[0m \u001b[0;34m=\u001b[0m \u001b[0mindices\u001b[0m \u001b[0;34m==\u001b[0m \u001b[0;34m-\u001b[0m\u001b[0;36m1\u001b[0m\u001b[0;34m\u001b[0m\u001b[0m\n\u001b[1;32m   3009\u001b[0m                 \u001b[0;32mif\u001b[0m \u001b[0mcheck\u001b[0m\u001b[0;34m.\u001b[0m\u001b[0many\u001b[0m\u001b[0;34m(\u001b[0m\u001b[0;34m)\u001b[0m\u001b[0;34m:\u001b[0m\u001b[0;34m\u001b[0m\u001b[0m\n\u001b[0;32m-> 3010\u001b[0;31m                     \u001b[0;32mraise\u001b[0m \u001b[0mKeyError\u001b[0m\u001b[0;34m(\u001b[0m\u001b[0mlist\u001b[0m\u001b[0;34m(\u001b[0m\u001b[0mnp\u001b[0m\u001b[0;34m.\u001b[0m\u001b[0mcompress\u001b[0m\u001b[0;34m(\u001b[0m\u001b[0mcheck\u001b[0m\u001b[0;34m,\u001b[0m \u001b[0msubset\u001b[0m\u001b[0;34m)\u001b[0m\u001b[0;34m)\u001b[0m\u001b[0;34m)\u001b[0m\u001b[0;34m\u001b[0m\u001b[0m\n\u001b[0m\u001b[1;32m   3011\u001b[0m                 \u001b[0magg_obj\u001b[0m \u001b[0;34m=\u001b[0m \u001b[0mself\u001b[0m\u001b[0;34m.\u001b[0m\u001b[0mtake\u001b[0m\u001b[0;34m(\u001b[0m\u001b[0mindices\u001b[0m\u001b[0;34m,\u001b[0m \u001b[0maxis\u001b[0m\u001b[0;34m=\u001b[0m\u001b[0magg_axis\u001b[0m\u001b[0;34m)\u001b[0m\u001b[0;34m\u001b[0m\u001b[0m\n\u001b[1;32m   3012\u001b[0m \u001b[0;34m\u001b[0m\u001b[0m\n",
      "\u001b[0;31mKeyError\u001b[0m: ['body']"
     ]
    }
   ],
   "source": [
    "new_titanic_survival = titanic_survival.dropna(subset=[\"body\"])\n",
    "\n",
    "# This prints the value in the first column of the first row\n",
    "print(new_titanic_survival.iloc[0,0])\n",
    "\n",
    "# This prints the exact same value -- it prints the value at row index 3 and column \"pclass\"\n",
    "# This happens to also be at row 0, index 0\n",
    "print(new_titanic_survival.loc[3,\"pclass\"])"
   ]
  },
  {
   "cell_type": "markdown",
   "metadata": {},
   "source": [
    "### Reindex Rows\n",
    "Recall that new_titanic_survival didn't have sequential row indexes.\n",
    "\n",
    "Each row retained its original index from titanic_survival.\n",
    "\n",
    "Sometimes it is useful to reindex, and make new indices starting from 0.\n",
    "\n",
    "To do this, we can use the reset_index() method."
   ]
  },
  {
   "cell_type": "code",
   "execution_count": null,
   "metadata": {
    "collapsed": false
   },
   "outputs": [],
   "source": [
    "# The indexes are the original numbers from titanic_survival\n",
    "new_titanic_survival = titanic_survival.dropna(subset=[\"body\"])\n",
    "print(new_titanic_survival)\n",
    "\n",
    "# Reset the index to an integer sequence, starting at 0.\n",
    "# The drop keyword argument specifies whether or not to make a dataframe column with the index values.\n",
    "# If True, it won't, if False, it will.\n",
    "# We'll almost always want to set it to True.\n",
    "new_titanic_survival = new_titanic_survival.reset_index(drop=True)\n",
    "# Now we have indexes starting from 0!\n",
    "print(new_titanic_survival)\n",
    "\n",
    "new_titanic_survival = titanic_survival.dropna(subset=[\"age\", \"boat\"])\n",
    "titanic_reindexed = new_titanic_survival.reset_index(drop=True)\n"
   ]
  },
  {
   "cell_type": "markdown",
   "metadata": {},
   "source": [
    "### Apply function\n",
    "The first step we need to take to figure out the age breakdown is to learn about the .apply() method.\n",
    "\n",
    "By default, .apply() will iterate through each column in a dataframe, and perform a function on it.\n",
    "\n",
    "The column will be passed into the function.\n",
    "\n",
    "The result from the function will be combined with all of the other results, and placed into a new series.\n",
    "\n",
    "The function results will have the same position as the column they were generated from."
   ]
  },
  {
   "cell_type": "code",
   "execution_count": null,
   "metadata": {
    "collapsed": true
   },
   "outputs": [],
   "source": []
  },
  {
   "cell_type": "code",
   "execution_count": null,
   "metadata": {
    "collapsed": true
   },
   "outputs": [],
   "source": []
  }
 ],
 "metadata": {
  "anaconda-cloud": {},
  "kernelspec": {
   "display_name": "Python [conda root]",
   "language": "python",
   "name": "conda-root-py"
  },
  "language_info": {
   "codemirror_mode": {
    "name": "ipython",
    "version": 2
   },
   "file_extension": ".py",
   "mimetype": "text/x-python",
   "name": "python",
   "nbconvert_exporter": "python",
   "pygments_lexer": "ipython2",
   "version": "2.7.12"
  }
 },
 "nbformat": 4,
 "nbformat_minor": 1
}
